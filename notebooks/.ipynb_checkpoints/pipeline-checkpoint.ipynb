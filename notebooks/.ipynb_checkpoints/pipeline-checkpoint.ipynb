{
 "cells": [
  {
   "cell_type": "markdown",
   "id": "7fb27b941602401d91542211134fc71a",
   "metadata": {},
   "source": [
    "# Predict EPL Match Winner – Pipeline\n",
    "Steps: download → features → train → evaluate → register → deploy → predict."
   ]
  },
  {
   "cell_type": "code",
   "execution_count": null,
   "id": "acae54e37e7d407bbb7b55eff062a284",
   "metadata": {},
   "outputs": [],
   "source": [
    "from pathlib import Path\n",
    "\n",
    "from pemw.cli import download_data, prepare_data\n",
    "from pemw.model import evaluate_local, train_local\n",
    "\n",
    "BASE = Path.cwd()\n",
    "download_data(seasons=20)\n",
    "prepare_data()\n",
    "train_local(BASE / \"data\" / \"processed\", BASE / \"artifacts\")\n",
    "evaluate_local(BASE / \"data\" / \"processed\")\n",
    "# Register & deploy on Vertex (set env first)\n",
    "# register_model(BASE/\"artifacts\")\n",
    "# endpoint = deploy_endpoint()\n",
    "# predict_online(endpoint, \"Arsenal\", \"Chelsea\")"
   ]
  }
 ],
 "metadata": {
  "kernelspec": {
   "display_name": "Python 3",
   "language": "python",
   "name": "python3"
  },
  "language_info": {
   "name": "python"
  }
 },
 "nbformat": 4,
 "nbformat_minor": 5
}